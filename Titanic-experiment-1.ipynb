{
  "cells": [
    {
      "cell_type": "code",
      "source": [
        "import azureml.core\n",
        "from azureml.core import Workspace\n",
        "\n",
        "# Load the workspace from the saved config file\n",
        "ws = Workspace.from_config()\n",
        "print('Ready to use Azure ML {} to work with {}'.format(azureml.core.VERSION, ws.name))"
      ],
      "outputs": [
        {
          "output_type": "stream",
          "name": "stdout",
          "text": [
            "Ready to use Azure ML 1.16.0 to work with agogemls\n"
          ]
        }
      ],
      "execution_count": 1,
      "metadata": {
        "gather": {
          "logged": 1606745387924
        }
      }
    },
    {
      "cell_type": "code",
      "source": [
        "from azureml.core import Experiment\n",
        "import pandas\n",
        "import matplotlib.pyplot as plt\n",
        "%matplotlib inline \n",
        "\n",
        "# Create an Azure ML experiment in your workspace\n",
        "experiment = Experiment(workspace = ws, name = \"Titanic-experiment-1\")\n",
        "\n",
        "run = experiment.start_logging()\n",
        "print(\"Starting experiment:\", experiment.name)\n",
        "\n",
        "from azureml.core import Dataset\n",
        "dataset_name = 'Titanic'\n",
        "\n",
        "# Get a dataset by name\n",
        "titanic_ds = Dataset.get_by_name(workspace=ws, name=dataset_name)\n",
        "\n",
        "# Load a TabularDataset into pandas DataFrame\n",
        "train_df = titanic_ds.to_pandas_dataframe()\n",
        "\n",
        "# Count the rows and log the result\n",
        "row_count = (len(train_df))\n",
        "run.log('observations', row_count)\n",
        "print('Analyzing {} rows of data'.format(row_count))\n",
        "\n",
        "# Log summary statistics for numeric columns\n",
        "columns = ['Survived', 'Pclass', 'Age', 'SibSp', 'Parch']\n",
        "summary_stats = train_df[columns].describe().to_dict()\n",
        "for col in summary_stats:\n",
        "    keys = list(summary_stats[col].keys())\n",
        "    values = list(summary_stats[col].values())\n",
        "    for index in range(len(keys)):\n",
        "        run.log_row(col, stat = keys[index], value = values[index])\n",
        "\n",
        "# Plot and log the count of survived vs non-survived passangers\n",
        "survived_counts = train_df['Survived'].value_counts()\n",
        "fig = plt.figure(figsize=(6,6))\n",
        "ax = fig.gca()    \n",
        "survived_counts.plot.bar(ax = ax) \n",
        "ax.set_title('Survivors') \n",
        "ax.set_ylabel('Passangers')\n",
        "plt.show()\n",
        "run.log_image(name = 'label distribution', plot = fig)\n",
        "\n",
        "# Save a sample of the data and upload it to the experiment output\n",
        "train_df.sample(10).to_csv('sample.csv', index=False, header=True)\n",
        "run.upload_file(name = 'outputs/sample.csv', path_or_stream = './sample.csv')"
      ],
      "outputs": [
        {
          "output_type": "stream",
          "name": "stdout",
          "text": [
            "Starting experiment: Titanic-experiment-1\n",
            "Analyzing 891 rows of data\n"
          ]
        },
        {
          "output_type": "display_data",
          "data": {
            "image/png": "[encoded data removed]",
            "text/plain": "<Figure size 432x432 with 1 Axes>"
          },
          "metadata": {
            "needs_background": "light"
          }
        },
        {
          "output_type": "execute_result",
          "execution_count": 2,
          "data": {
            "text/plain": "<azureml._restclient.models.batch_artifact_content_information_dto.BatchArtifactContentInformationDto at 0x7f6e2c0a63c8>"
          },
          "metadata": {}
        }
      ],
      "execution_count": 2,
      "metadata": {
        "jupyter": {
          "outputs_hidden": false,
          "source_hidden": false
        },
        "nteract": {
          "transient": {
            "deleting": false
          }
        }
      }
    },
    {
      "cell_type": "code",
      "source": [
        "import numpy as np\n",
        "#Data cleansing & Feature engineering\n",
        "train_df = train_df.drop(['Ticket', 'Cabin', 'PassengerId'], axis=1)\n",
        "\n",
        "train_df['Title'] = train_df.Name.str.extract(' ([A-Za-z]+)\\.', expand=False)\n",
        "train_df['Title'] = train_df['Title'].replace(['Lady', 'Countess','Capt', 'Col','Don', 'Dr', 'Major', 'Rev', 'Sir', 'Jonkheer', 'Dona'], 'Other')\n",
        "train_df['Title'] = train_df['Title'].replace('Mlle', 'Miss')\n",
        "train_df['Title'] = train_df['Title'].replace('Ms', 'Miss')\n",
        "train_df['Title'] = train_df['Title'].replace('Mme', 'Mrs')\n",
        "\n",
        "title_mapping = {\"Mr\": 1, \"Miss\": 2, \"Mrs\": 3, \"Master\": 4, \"Rare\": 5}\n",
        "train_df['Title'] = train_df['Title'].map(title_mapping)\n",
        "train_df['Title'] = train_df['Title'].fillna(0).astype(int)\n",
        "train_df = train_df.drop(['Name'], axis=1)\n",
        "\n",
        "train_df['FamilySize'] = train_df['SibSp'] + train_df['Parch'] + 1\n",
        "train_df['IsAlone'] = 0\n",
        "train_df.loc[train_df['FamilySize'] == 1, 'IsAlone'] = 1\n",
        "train_df = train_df.drop(['Parch', 'SibSp', 'FamilySize'], axis=1)\n",
        "\n",
        "train_df['Sex'] = train_df['Sex'].map( {'female': 1, 'male': 0} ).astype(int)\n",
        "\n",
        "freq_port = train_df.Embarked.dropna().mode()[0]\n",
        "train_df['Embarked'] = train_df['Embarked'].fillna(freq_port)\n",
        "train_df['Embarked'] = train_df['Embarked'].map( {'S': 0, 'C': 1, 'Q': 2} ).astype(int)\n",
        "\n",
        "guess_ages = np.zeros((2,3))\n",
        "for i in range(0, 2):\n",
        "    for j in range(0, 3):\n",
        "        guess_df = train_df[(train_df['Sex'] == i) & (train_df['Pclass'] == j + 1)]['Age'].dropna()\n",
        "        age_guess = guess_df.median()\n",
        "        # Convert random age float to nearest .5 age\n",
        "        guess_ages[i, j] = int(age_guess / 0.5 + 0.5) * 0.5\n",
        "\n",
        "for i in range(0, 2):\n",
        "    for j in range(0, 3):\n",
        "            train_df.loc[(train_df.Age.isnull()) & (train_df.Sex == i) & (train_df.Pclass == j + 1),\n",
        "                         'Age'] = guess_ages[i, j]\n",
        "\n",
        "train_df['Age'] = train_df['Age'].astype(int)\n",
        "\n",
        "train_df.loc[ train_df['Fare'] <= 7.91, 'Fare'] = 0\n",
        "train_df.loc[(train_df['Fare'] > 7.91) & (train_df['Fare'] <= 14.454), 'Fare'] = 1\n",
        "train_df.loc[(train_df['Fare'] > 14.454) & (train_df['Fare'] <= 31), 'Fare']   = 2\n",
        "train_df.loc[ train_df['Fare'] > 31, 'Fare'] = 3\n",
        "train_df['Fare'] = train_df['Fare'].astype(int)"
      ],
      "outputs": [],
      "execution_count": 3,
      "metadata": {}
    },
    {
      "cell_type": "code",
      "source": [
        "from sklearn.model_selection import train_test_split\n",
        "from sklearn.linear_model import LogisticRegression\n",
        "from sklearn.metrics import roc_auc_score\n",
        "from sklearn.metrics import roc_curve\n",
        "import joblib\n",
        "\n",
        "# Separate features and labels\n",
        "X = train_df.drop(\"Survived\", axis=1)\n",
        "y = train_df[\"Survived\"]\n",
        "\n",
        "# Split data into training set and test set\n",
        "X_train, X_test, y_train, y_test = train_test_split(X, y, test_size=0.3, random_state=12345)\n",
        "\n",
        "# Set regularization hyperparameter\n",
        "reg = 0.05\n",
        "print('Training a logistic regression model with regularization rate of', reg)\n",
        "run.log('Regularization Rate',  np.float(reg))\n",
        "model = LogisticRegression(C=1/reg, solver=\"liblinear\").fit(X_train, y_train)\n",
        "\n",
        "# calculate accuracy\n",
        "y_hat = model.predict(X_test)\n",
        "acc = np.average(y_hat == y_test)\n",
        "print('Accuracy:', acc)\n",
        "run.log('Accuracy', np.float(acc))\n",
        "\n",
        "# calculate AUC\n",
        "y_scores = model.predict_proba(X_test)\n",
        "auc = roc_auc_score(y_test,y_scores[:,1])\n",
        "print('AUC: ' + str(auc))\n",
        "run.log('AUC', np.float(auc))\n",
        "\n",
        "# Save the trained model in the outputs folder\n",
        "os.makedirs('outputs', exist_ok=True)\n",
        "joblib.dump(value=model, filename='outputs/titanic_model.pkl')\n",
        "\n",
        "# Complete the run\n",
        "run.complete()"
      ],
      "outputs": [
        {
          "output_type": "stream",
          "name": "stdout",
          "text": [
            "Training a logistic regression model with regularization rate of 0.05\n",
            "Accuracy: 0.7798507462686567\n",
            "AUC: 0.823345924908425\n"
          ]
        }
      ],
      "execution_count": 4,
      "metadata": {}
    },
    {
      "cell_type": "code",
      "source": [
        "# Get logged metrics\n",
        "metrics = run.get_metrics()\n",
        "for key in metrics.keys():\n",
        "        print(key, metrics.get(key))\n",
        "print('\\n')\n",
        "for file in run.get_file_names():\n",
        "    print(file)"
      ],
      "outputs": [
        {
          "output_type": "stream",
          "name": "stdout",
          "text": [
            "observations 891\n",
            "Survived {'stat': ['count', 'mean', 'std', 'min', '25%', '50%', '75%', 'max'], 'value': [891.0, 0.3838383838383838, 0.4865924542648585, 0.0, 0.0, 0.0, 1.0, 1.0]}\n",
            "Pclass {'stat': ['count', 'mean', 'std', 'min', '25%', '50%', '75%', 'max'], 'value': [891.0, 2.308641975308642, 0.8360712409770513, 1.0, 2.0, 3.0, 3.0, 3.0]}\n",
            "Age {'stat': ['count', 'mean', 'std', 'min', '25%', '50%', '75%', 'max'], 'value': [714.0, 29.69911764705882, 14.526497332334044, 0.42, 20.125, 28.0, 38.0, 80.0]}\n",
            "SibSp {'stat': ['count', 'mean', 'std', 'min', '25%', '50%', '75%', 'max'], 'value': [891.0, 0.5230078563411896, 1.1027434322934275, 0.0, 0.0, 0.0, 1.0, 8.0]}\n",
            "Parch {'stat': ['count', 'mean', 'std', 'min', '25%', '50%', '75%', 'max'], 'value': [891.0, 0.38159371492704824, 0.8060572211299559, 0.0, 0.0, 0.0, 0.0, 6.0]}\n",
            "label distribution aml://artifactId/ExperimentRun/dcid.0760d5b5-f3e2-4375-b9ad-14b541fda1c8/label distribution_1603270200.png\n",
            "Regularization Rate 0.05\n",
            "Accuracy 0.7798507462686567\n",
            "AUC 0.823345924908425\n",
            "\n",
            "\n",
            "label distribution_1603270200.png\n",
            "outputs/sample.csv\n",
            "outputs/titanic_model.pkl\n"
          ]
        }
      ],
      "execution_count": 5,
      "metadata": {}
    },
    {
      "cell_type": "code",
      "source": [
        "from azureml.core import Model\n",
        "\n",
        "# Register the model\n",
        "run.register_model(model_path='outputs/titanic_model.pkl', model_name='Titanic',\n",
        "                   tags={'Training context':'Local'},\n",
        "                   properties={'AUC': run.get_metrics()['AUC'], 'Accuracy': run.get_metrics()['Accuracy']})"
      ],
      "outputs": [
        {
          "output_type": "execute_result",
          "execution_count": 6,
          "data": {
            "text/plain": "Model(workspace=Workspace.create(name='agogemls', subscription_id='da21a094-26a3-472f-991b-e2b11979af40', resource_group='agoge'), name=Titanic, id=Titanic:1, version=1, tags={'Training context': 'Local'}, properties={'AUC': '0.823345924908425', 'Accuracy': '0.7798507462686567'})"
          },
          "metadata": {}
        }
      ],
      "execution_count": 6,
      "metadata": {}
    }
  ],
  "metadata": {
    "kernel_info": {
      "name": "python3-azureml"
    },
    "kernelspec": {
      "name": "python3-azureml",
      "language": "python",
      "display_name": "Python 3.6 - AzureML"
    },
    "language_info": {
      "name": "python",
      "version": "3.6.9",
      "mimetype": "text/x-python",
      "codemirror_mode": {
        "name": "ipython",
        "version": 3
      },
      "pygments_lexer": "ipython3",
      "nbconvert_exporter": "python",
      "file_extension": ".py"
    },
    "nteract": {
      "version": "nteract-front-end@1.0.0"
    }
  },
  "nbformat": 4,
  "nbformat_minor": 2
}