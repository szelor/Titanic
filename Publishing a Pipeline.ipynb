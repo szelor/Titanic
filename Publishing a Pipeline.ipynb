{
 "cells": [
  {
   "cell_type": "code",
   "execution_count": 1,
   "metadata": {},
   "outputs": [
    {
     "name": "stdout",
     "output_type": "stream",
     "text": [
      "Ready to use Azure ML 1.16.0 to work with agogemls\n"
     ]
    }
   ],
   "source": [
    "import azureml.core\n",
    "from azureml.core import Workspace\n",
    "\n",
    "# Load the workspace from the saved config file\n",
    "ws = Workspace.from_config()\n",
    "print('Ready to use Azure ML {} to work with {}'.format(azureml.core.VERSION, ws.name))"
   ]
  },
  {
   "cell_type": "code",
   "execution_count": 2,
   "metadata": {},
   "outputs": [
    {
     "data": {
      "text/html": [
       "<table style=\"width:100%\"><tr><th>Name</th><th>Id</th><th>Status</th><th>Endpoint</th></tr><tr><td>Titanic_Training_Pipeline</td><td><a href=\"https://ml.azure.com/pipelines/b6c2c6cd-23d6-4358-98b9-adeabf586628?wsid=/subscriptions/da21a094-26a3-472f-991b-e2b11979af40/resourcegroups/agoge/workspaces/agogemls\" target=\"_blank\" rel=\"noopener\">b6c2c6cd-23d6-4358-98b9-adeabf586628</a></td><td>Active</td><td><a href=\"https://westeurope.api.azureml.ms/pipelines/v1.0/subscriptions/da21a094-26a3-472f-991b-e2b11979af40/resourceGroups/agoge/providers/Microsoft.MachineLearningServices/workspaces/agogemls/PipelineRuns/PipelineSubmit/b6c2c6cd-23d6-4358-98b9-adeabf586628\" target=\"_blank\" rel=\"noopener\">REST Endpoint</a></td></tr></table>"
      ],
      "text/plain": [
       "Pipeline(Name: Titanic_Training_Pipeline,\n",
       "Id: b6c2c6cd-23d6-4358-98b9-adeabf586628,\n",
       "Status: Active,\n",
       "Endpoint: https://westeurope.api.azureml.ms/pipelines/v1.0/subscriptions/da21a094-26a3-472f-991b-e2b11979af40/resourceGroups/agoge/providers/Microsoft.MachineLearningServices/workspaces/agogemls/PipelineRuns/PipelineSubmit/b6c2c6cd-23d6-4358-98b9-adeabf586628)"
      ]
     },
     "execution_count": 2,
     "metadata": {},
     "output_type": "execute_result"
    }
   ],
   "source": [
    "# Get the most recent run of the pipeline\n",
    "experiment_name = 'titanic_automl_pipeline'\n",
    "pipeline_experiment = ws.experiments.get(experiment_name)\n",
    "pipeline_run = list(pipeline_experiment.get_runs())[0]\n",
    "\n",
    "# Publish the pipeline from the run\n",
    "published_pipeline = pipeline_run.publish_pipeline(\n",
    "    name=\"Titanic_Training_Pipeline\", description=\"Trains titanic model\", version=\"1.0\")\n",
    "\n",
    "published_pipeline"
   ]
  },
  {
   "cell_type": "code",
   "execution_count": 3,
   "metadata": {},
   "outputs": [
    {
     "name": "stdout",
     "output_type": "stream",
     "text": [
      "https://westeurope.api.azureml.ms/pipelines/v1.0/subscriptions/da21a094-26a3-472f-991b-e2b11979af40/resourceGroups/agoge/providers/Microsoft.MachineLearningServices/workspaces/agogemls/PipelineRuns/PipelineSubmit/b6c2c6cd-23d6-4358-98b9-adeabf586628\n"
     ]
    }
   ],
   "source": [
    "rest_endpoint = published_pipeline.endpoint\n",
    "print(rest_endpoint)"
   ]
  },
  {
   "cell_type": "code",
   "execution_count": 4,
   "metadata": {},
   "outputs": [
    {
     "name": "stdout",
     "output_type": "stream",
     "text": [
      "Authentication header ready.\n"
     ]
    }
   ],
   "source": [
    "from azureml.core.authentication import InteractiveLoginAuthentication\n",
    "\n",
    "interactive_auth = InteractiveLoginAuthentication()\n",
    "auth_header = interactive_auth.get_authentication_header()\n",
    "print(\"Authentication header ready.\")"
   ]
  },
  {
   "cell_type": "code",
   "execution_count": 5,
   "metadata": {},
   "outputs": [
    {
     "data": {
      "text/plain": [
       "'f6304f2e-e999-4fbe-ae46-a98246660f87'"
      ]
     },
     "execution_count": 5,
     "metadata": {},
     "output_type": "execute_result"
    }
   ],
   "source": [
    "import requests\n",
    "\n",
    "rest_endpoint = published_pipeline.endpoint\n",
    "response = requests.post(rest_endpoint, \n",
    "                         headers=auth_header, \n",
    "                         json={\"ExperimentName\": experiment_name})\n",
    "run_id = response.json()[\"Id\"]\n",
    "run_id"
   ]
  },
  {
   "cell_type": "code",
   "execution_count": 6,
   "metadata": {},
   "outputs": [
    {
     "name": "stdout",
     "output_type": "stream",
     "text": [
      "Pipeline scheduled.\n"
     ]
    }
   ],
   "source": [
    "from azureml.pipeline.core import ScheduleRecurrence, Schedule\n",
    "\n",
    "# Submit the Pipeline every Monday at 00:00 UTC\n",
    "recurrence = ScheduleRecurrence(frequency=\"Week\", interval=1, week_days=[\"Monday\"], time_of_day=\"00:00\")\n",
    "weekly_schedule = Schedule.create(ws, name=\"weekly-titanic-training\", \n",
    "                                  description=\"Based on time\",\n",
    "                                  pipeline_id=published_pipeline.id, \n",
    "                                  experiment_name=experiment_name, \n",
    "                                  recurrence=recurrence)\n",
    "print('Pipeline scheduled.')"
   ]
  },
  {
   "cell_type": "code",
   "execution_count": 7,
   "metadata": {},
   "outputs": [
    {
     "data": {
      "text/plain": [
       "[Pipeline(Name: weekly-titanic-training,\n",
       " Id: 691e6c10-7277-450d-b77c-630891236a40,\n",
       " Status: Active,\n",
       " Pipeline Id: b6c2c6cd-23d6-4358-98b9-adeabf586628,\n",
       " Recurrence Details: Runs at 0:00 on Monday every Week)]"
      ]
     },
     "execution_count": 7,
     "metadata": {},
     "output_type": "execute_result"
    }
   ],
   "source": [
    "schedules = Schedule.list(ws)\n",
    "schedules"
   ]
  },
  {
   "cell_type": "code",
   "execution_count": 8,
   "metadata": {},
   "outputs": [
    {
     "data": {
      "text/html": [
       "<table style=\"width:100%\"><tr><th>Name</th><th>Id</th><th>Status</th><th>Pipeline Id</th><th>Recurrence Details</th></tr><tr><td>weekly-titanic-training</td><td>691e6c10-7277-450d-b77c-630891236a40</td><td>Disabled</td><td><a href=\"https://ml.azure.com/pipelines/b6c2c6cd-23d6-4358-98b9-adeabf586628?wsid=/subscriptions/da21a094-26a3-472f-991b-e2b11979af40/resourcegroups/agoge/workspaces/agogemls\" target=\"_blank\" rel=\"noopener\">b6c2c6cd-23d6-4358-98b9-adeabf586628</a></td><td>Runs at 0:00 on Monday every Week</td></tr></table>"
      ],
      "text/plain": [
       "Pipeline(Name: weekly-titanic-training,\n",
       "Id: 691e6c10-7277-450d-b77c-630891236a40,\n",
       "Status: Disabled,\n",
       "Pipeline Id: b6c2c6cd-23d6-4358-98b9-adeabf586628,\n",
       "Recurrence Details: Runs at 0:00 on Monday every Week)"
      ]
     },
     "execution_count": 8,
     "metadata": {},
     "output_type": "execute_result"
    }
   ],
   "source": [
    "def stop_by_schedule_id(ws, schedule_id):\n",
    "    s = next(s for s in Schedule.list(ws) if s.id == schedule_id)\n",
    "    s.disable()\n",
    "    return s\n",
    "\n",
    "schedule_id = '691e6c10-7277-450d-b77c-630891236a40'\n",
    "stop_by_schedule_id(ws, schedule_id)"
   ]
  },
  {
   "cell_type": "code",
   "execution_count": 9,
   "metadata": {},
   "outputs": [
    {
     "data": {
      "text/plain": [
       "[]"
      ]
     },
     "execution_count": 9,
     "metadata": {},
     "output_type": "execute_result"
    }
   ],
   "source": [
    "schedules = Schedule.list(ws)\n",
    "schedules"
   ]
  }
 ],
 "metadata": {
  "kernelspec": {
   "display_name": "Python 3.6 - AzureML",
   "language": "python",
   "name": "python3-azureml"
  },
  "language_info": {
   "codemirror_mode": {
    "name": "ipython",
    "version": 3
   },
   "file_extension": ".py",
   "mimetype": "text/x-python",
   "name": "python",
   "nbconvert_exporter": "python",
   "pygments_lexer": "ipython3",
   "version": "3.6.9"
  }
 },
 "nbformat": 4,
 "nbformat_minor": 4
}
