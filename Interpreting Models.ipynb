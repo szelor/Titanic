{
 "cells": [
  {
   "cell_type": "code",
   "execution_count": 1,
   "metadata": {},
   "outputs": [
    {
     "name": "stdout",
     "output_type": "stream",
     "text": [
      "Ready to use Azure ML 1.16.0 to work with agogemls\n"
     ]
    }
   ],
   "source": [
    "import azureml.core\n",
    "from azureml.core import Workspace\n",
    "\n",
    "# Load the workspace from the saved config file\n",
    "ws = Workspace.from_config()\n",
    "print('Ready to use Azure ML {} to work with {}'.format(azureml.core.VERSION, ws.name))"
   ]
  },
  {
   "cell_type": "code",
   "execution_count": 19,
   "metadata": {},
   "outputs": [],
   "source": [
    "from azureml.core import Run\n",
    "run = Run.get(ws, 'AutoML_5de99f57-2f39-4574-ae21-a7be823d11a4_8')"
   ]
  },
  {
   "cell_type": "code",
   "execution_count": 21,
   "metadata": {},
   "outputs": [
    {
     "name": "stdout",
     "output_type": "stream",
     "text": [
      "Feature\tImportance\n",
      "Fare_MeanImputer \t 0.31369839516127734\n",
      "Age_MeanImputer \t 0.044176123415107474\n",
      "PassengerId_MeanImputer \t 0.030960351706521925\n",
      "Name_CharGramTfIdf_on  \t 0.0\n",
      "Name_CharGramTfIdf_om\" \t 0.0\n",
      "Name_CharGramTfIdf_om, \t 0.0\n",
      "Name_CharGramTfIdf_om- \t 0.0\n",
      "Name_CharGramTfIdf_oma \t 0.0\n",
      "Name_CharGramTfIdf_ome \t 0.0\n",
      "Name_CharGramTfIdf_omf \t 0.0\n",
      "Name_CharGramTfIdf_omi \t 0.0\n",
      "Name_CharGramTfIdf_oml \t 0.0\n",
      "Name_CharGramTfIdf_omm \t 0.0\n",
      "Name_CharGramTfIdf_omo \t 0.0\n",
      "Name_CharGramTfIdf_omp \t 0.0\n",
      "Name_CharGramTfIdf_on) \t 0.0\n",
      "Name_CharGramTfIdf_on\" \t 0.0\n",
      "Name_CharGramTfIdf_olt \t 0.0\n",
      "Name_CharGramTfIdf_on, \t 0.0\n",
      "Name_CharGramTfIdf_on. \t 0.0\n",
      "Name_CharGramTfIdf_ona \t 0.0\n",
      "Name_CharGramTfIdf_onc \t 0.0\n",
      "Name_CharGramTfIdf_ond \t 0.0\n",
      "Name_CharGramTfIdf_one \t 0.0\n",
      "Name_CharGramTfIdf_ong \t 0.0\n",
      "Name_CharGramTfIdf_oni \t 0.0\n",
      "Name_CharGramTfIdf_onk \t 0.0\n",
      "Name_CharGramTfIdf_onn \t 0.0\n",
      "Name_CharGramTfIdf_olv \t 0.0\n",
      "Name_CharGramTfIdf_ols \t 0.0\n",
      "Name_CharGramTfIdf_onr \t 0.0\n",
      "Name_CharGramTfIdf_olp \t 0.0\n",
      "Name_CharGramTfIdf_ogr \t 0.0\n",
      "Name_CharGramTfIdf_oha \t 0.0\n",
      "Name_CharGramTfIdf_ohe \t 0.0\n",
      "Name_CharGramTfIdf_ohm \t 0.0\n",
      "Name_CharGramTfIdf_ohn \t 0.0\n",
      "Name_CharGramTfIdf_oho \t 0.0\n",
      "Name_CharGramTfIdf_oic \t 0.0\n",
      "Name_CharGramTfIdf_ois \t 0.0\n",
      "Name_CharGramTfIdf_oja \t 0.0\n",
      "Name_CharGramTfIdf_ojj \t 0.0\n",
      "Name_CharGramTfIdf_ok, \t 0.0\n",
      "Name_CharGramTfIdf_ol. \t 0.0\n",
      "Name_CharGramTfIdf_ola \t 0.0\n",
      "Name_CharGramTfIdf_olc \t 0.0\n",
      "Name_CharGramTfIdf_old \t 0.0\n",
      "Name_CharGramTfIdf_ole \t 0.0\n",
      "Name_CharGramTfIdf_olf \t 0.0\n",
      "Name_CharGramTfIdf_oli \t 0.0\n",
      "Name_CharGramTfIdf_olk \t 0.0\n",
      "Name_CharGramTfIdf_oll \t 0.0\n",
      "Name_CharGramTfIdf_olm \t 0.0\n",
      "Name_CharGramTfIdf_oln \t 0.0\n",
      "Name_CharGramTfIdf_olo \t 0.0\n",
      "Name_CharGramTfIdf_ono \t 0.0\n",
      "Name_CharGramTfIdf_ons \t 0.0\n",
      "Name_CharGramTfIdf_ogd \t 0.0\n",
      "Name_CharGramTfIdf_orl \t 0.0\n",
      "Name_CharGramTfIdf_orn \t 0.0\n",
      "Name_CharGramTfIdf_oro \t 0.0\n",
      "Name_CharGramTfIdf_orp \t 0.0\n",
      "Name_CharGramTfIdf_orr \t 0.0\n",
      "Name_CharGramTfIdf_ors \t 0.0\n",
      "Name_CharGramTfIdf_ort \t 0.0\n",
      "Name_CharGramTfIdf_os  \t 0.0\n",
      "Name_CharGramTfIdf_os) \t 0.0\n",
      "Name_CharGramTfIdf_os, \t 0.0\n",
      "Name_CharGramTfIdf_osa \t 0.0\n",
      "Name_CharGramTfIdf_osb \t 0.0\n",
      "Name_CharGramTfIdf_osc \t 0.0\n",
      "Name_CharGramTfIdf_ose \t 0.0\n",
      "Name_CharGramTfIdf_osi \t 0.0\n",
      "Name_CharGramTfIdf_osk \t 0.0\n",
      "Name_CharGramTfIdf_osm \t 0.0\n",
      "Name_CharGramTfIdf_oso \t 0.0\n",
      "Name_CharGramTfIdf_oss \t 0.0\n",
      "Name_CharGramTfIdf_ost \t 0.0\n",
      "Name_CharGramTfIdf_osw \t 0.0\n",
      "Name_CharGramTfIdf_ot, \t 0.0\n",
      "Name_CharGramTfIdf_ota \t 0.0\n",
      "Name_CharGramTfIdf_otc \t 0.0\n",
      "Name_CharGramTfIdf_orm \t 0.0\n",
      "Name_CharGramTfIdf_ork \t 0.0\n",
      "Name_CharGramTfIdf_ont \t 0.0\n",
      "Name_CharGramTfIdf_ori \t 0.0\n",
      "Name_CharGramTfIdf_ony \t 0.0\n",
      "Name_CharGramTfIdf_onz \t 0.0\n",
      "Name_CharGramTfIdf_oo, \t 0.0\n",
      "Name_CharGramTfIdf_ood \t 0.0\n",
      "Name_CharGramTfIdf_oog \t 0.0\n",
      "Name_CharGramTfIdf_ook \t 0.0\n",
      "Name_CharGramTfIdf_ool \t 0.0\n",
      "Name_CharGramTfIdf_oom \t 0.0\n",
      "Name_CharGramTfIdf_oon \t 0.0\n",
      "Name_CharGramTfIdf_oor \t 0.0\n",
      "Name_CharGramTfIdf_op, \t 0.0\n",
      "Name_CharGramTfIdf_ope \t 0.0\n",
      "Name_CharGramTfIdf_oph \t 0.0\n",
      "Name_CharGramTfIdf_opo \t 0.0\n"
     ]
    }
   ],
   "source": [
    "from azureml.contrib.interpret.explanation.explanation_client import ExplanationClient\n",
    "\n",
    "# Get the feature explanations\n",
    "client = ExplanationClient.from_run(run)\n",
    "engineered_explanations = client.download_model_explanation()\n",
    "feature_importances = engineered_explanations.get_feature_importance_dict()\n",
    "\n",
    "# Overall feature importance\n",
    "print('Feature\\tImportance')\n",
    "for key, value in feature_importances.items():\n",
    "    print(key, '\\t', value)"
   ]
  }
 ],
 "metadata": {
  "kernelspec": {
   "display_name": "Python 3.6 - AzureML",
   "language": "python",
   "name": "python3-azureml"
  },
  "language_info": {
   "codemirror_mode": {
    "name": "ipython",
    "version": 3
   },
   "file_extension": ".py",
   "mimetype": "text/x-python",
   "name": "python",
   "nbconvert_exporter": "python",
   "pygments_lexer": "ipython3",
   "version": "3.6.9"
  }
 },
 "nbformat": 4,
 "nbformat_minor": 4
}
