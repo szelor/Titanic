{
 "cells": [
  {
   "cell_type": "code",
   "execution_count": 1,
   "metadata": {},
   "outputs": [
    {
     "name": "stdout",
     "output_type": "stream",
     "text": [
      "Ready to use Azure ML 1.16.0 to work with agogemls\n"
     ]
    }
   ],
   "source": [
    "import azureml.core\n",
    "from azureml.core import Workspace\n",
    "\n",
    "# Load the workspace from the saved config file\n",
    "ws = Workspace.from_config()\n",
    "print('Ready to use Azure ML {} to work with {}'.format(azureml.core.VERSION, ws.name))"
   ]
  },
  {
   "cell_type": "code",
   "execution_count": 2,
   "metadata": {},
   "outputs": [
    {
     "name": "stdout",
     "output_type": "stream",
     "text": [
      "TitanicAutoML version: 4\n",
      "\n",
      "\n",
      "titanic_model version: 1\n",
      "\t Training context : Pipeline\n",
      "\n",
      "\n",
      "Titanic version: 5\n",
      "\t Training context : Remote Estimator\n",
      "\t Regularization Rate : 0.45\n",
      "\t AUC : 0.8230025183150182\n",
      "\t Accuracy : 0.7985074626865671\n",
      "\n",
      "\n",
      "Titanic version: 3\n",
      "\t Training context : Estimator\n",
      "\t Regularization Rate : 0.4\n",
      "\t AUC : 0.822945283882784\n",
      "\t Accuracy : 0.7947761194029851\n",
      "\n",
      "\n",
      "Titanic version: 1\n",
      "\t Training context : Local\n",
      "\t AUC : 0.823345924908425\n",
      "\t Accuracy : 0.7798507462686567\n",
      "\n",
      "\n"
     ]
    }
   ],
   "source": [
    "from azureml.core import Model\n",
    "\n",
    "for model in Model.list(ws):\n",
    "    print(model.name, 'version:', model.version)\n",
    "    for tag_name in model.tags:\n",
    "        tag = model.tags[tag_name]\n",
    "        print ('\\t',tag_name, ':', tag)\n",
    "    for prop_name in model.properties:\n",
    "        prop = model.properties[prop_name]\n",
    "        print ('\\t',prop_name, ':', prop)\n",
    "    print('\\n')"
   ]
  },
  {
   "cell_type": "code",
   "execution_count": 3,
   "metadata": {},
   "outputs": [],
   "source": [
    "import joblib\n",
    "\n",
    "model_path = ws.models['TitanicAutoML'].download(target_dir='.', exist_ok=True)\n",
    "model = joblib.load(model_path)"
   ]
  },
  {
   "cell_type": "code",
   "execution_count": 4,
   "metadata": {},
   "outputs": [
    {
     "data": {
      "text/plain": [
       "Pipeline(memory=None,\n",
       "         steps=[('datatransformer',\n",
       "                 DataTransformer(enable_dnn=None, enable_feature_sweeping=None,\n",
       "                                 feature_sweeping_config=None,\n",
       "                                 feature_sweeping_timeout=None,\n",
       "                                 featurization_config=None, force_text_dnn=None,\n",
       "                                 is_cross_validation=None,\n",
       "                                 is_onnx_compatible=None, logger=None,\n",
       "                                 observer=None, task=None, working_dir=None)),\n",
       "                ('prefittedsoftvotingclassifier',...\n",
       "                                                                                                min_child_samples=20,\n",
       "                                                                                                min_child_weight=0.001,\n",
       "                                                                                                min_split_gain=0.0,\n",
       "                                                                                                n_estimators=100,\n",
       "                                                                                                n_jobs=1,\n",
       "                                                                                                num_leaves=31,\n",
       "                                                                                                objective=None,\n",
       "                                                                                                random_state=None,\n",
       "                                                                                                reg_alpha=0.0,\n",
       "                                                                                                reg_lambda=0.0,\n",
       "                                                                                                silent=True,\n",
       "                                                                                                subsample=1.0,\n",
       "                                                                                                subsample_for_bin=200000,\n",
       "                                                                                                subsample_freq=0,\n",
       "                                                                                                verbose=-10))],\n",
       "                                                                     verbose=False))],\n",
       "                                               flatten_transform=None,\n",
       "                                               weights=[0.6666666666666666,\n",
       "                                                        0.3333333333333333]))],\n",
       "         verbose=False)"
      ]
     },
     "execution_count": 4,
     "metadata": {},
     "output_type": "execute_result"
    }
   ],
   "source": [
    "model"
   ]
  },
  {
   "cell_type": "code",
   "execution_count": 5,
   "metadata": {},
   "outputs": [],
   "source": [
    "import pandas\n",
    "\n",
    "test_df = pandas.read_csv('test.csv')\n",
    "test =test_df.drop(['PassengerId'], axis=1)"
   ]
  },
  {
   "cell_type": "code",
   "execution_count": 6,
   "metadata": {},
   "outputs": [
    {
     "data": {
      "text/html": [
       "<div>\n",
       "<style scoped>\n",
       "    .dataframe tbody tr th:only-of-type {\n",
       "        vertical-align: middle;\n",
       "    }\n",
       "\n",
       "    .dataframe tbody tr th {\n",
       "        vertical-align: top;\n",
       "    }\n",
       "\n",
       "    .dataframe thead th {\n",
       "        text-align: right;\n",
       "    }\n",
       "</style>\n",
       "<table border=\"1\" class=\"dataframe\">\n",
       "  <thead>\n",
       "    <tr style=\"text-align: right;\">\n",
       "      <th></th>\n",
       "      <th>PassengerId</th>\n",
       "      <th>Survived</th>\n",
       "    </tr>\n",
       "  </thead>\n",
       "  <tbody>\n",
       "    <tr>\n",
       "      <th>0</th>\n",
       "      <td>892</td>\n",
       "      <td>0</td>\n",
       "    </tr>\n",
       "    <tr>\n",
       "      <th>1</th>\n",
       "      <td>893</td>\n",
       "      <td>0</td>\n",
       "    </tr>\n",
       "    <tr>\n",
       "      <th>2</th>\n",
       "      <td>894</td>\n",
       "      <td>0</td>\n",
       "    </tr>\n",
       "    <tr>\n",
       "      <th>3</th>\n",
       "      <td>895</td>\n",
       "      <td>0</td>\n",
       "    </tr>\n",
       "    <tr>\n",
       "      <th>4</th>\n",
       "      <td>896</td>\n",
       "      <td>1</td>\n",
       "    </tr>\n",
       "    <tr>\n",
       "      <th>...</th>\n",
       "      <td>...</td>\n",
       "      <td>...</td>\n",
       "    </tr>\n",
       "    <tr>\n",
       "      <th>413</th>\n",
       "      <td>1305</td>\n",
       "      <td>0</td>\n",
       "    </tr>\n",
       "    <tr>\n",
       "      <th>414</th>\n",
       "      <td>1306</td>\n",
       "      <td>1</td>\n",
       "    </tr>\n",
       "    <tr>\n",
       "      <th>415</th>\n",
       "      <td>1307</td>\n",
       "      <td>0</td>\n",
       "    </tr>\n",
       "    <tr>\n",
       "      <th>416</th>\n",
       "      <td>1308</td>\n",
       "      <td>0</td>\n",
       "    </tr>\n",
       "    <tr>\n",
       "      <th>417</th>\n",
       "      <td>1309</td>\n",
       "      <td>1</td>\n",
       "    </tr>\n",
       "  </tbody>\n",
       "</table>\n",
       "<p>418 rows × 2 columns</p>\n",
       "</div>"
      ],
      "text/plain": [
       "     PassengerId  Survived\n",
       "0            892         0\n",
       "1            893         0\n",
       "2            894         0\n",
       "3            895         0\n",
       "4            896         1\n",
       "..           ...       ...\n",
       "413         1305         0\n",
       "414         1306         1\n",
       "415         1307         0\n",
       "416         1308         0\n",
       "417         1309         1\n",
       "\n",
       "[418 rows x 2 columns]"
      ]
     },
     "execution_count": 6,
     "metadata": {},
     "output_type": "execute_result"
    }
   ],
   "source": [
    "output = pandas.DataFrame({\n",
    "    'PassengerId': test_df['PassengerId'], \n",
    "    'Survived': model.predict(test)\n",
    "})\n",
    "output"
   ]
  },
  {
   "cell_type": "code",
   "execution_count": 28,
   "metadata": {},
   "outputs": [
    {
     "data": {
      "text/plain": [
       "'{\"data\": \"{\\\\\"Pclass\\\\\":{\\\\\"0\\\\\":3},\\\\\"Name\\\\\":{\\\\\"0\\\\\":\\\\\"Kelly, Mr. James\\\\\"},\\\\\"Sex\\\\\":{\\\\\"0\\\\\":\\\\\"male\\\\\"},\\\\\"Age\\\\\":{\\\\\"0\\\\\":34.5},\\\\\"SibSp\\\\\":{\\\\\"0\\\\\":0},\\\\\"Parch\\\\\":{\\\\\"0\\\\\":0},\\\\\"Ticket\\\\\":{\\\\\"0\\\\\":\\\\\"330911\\\\\"},\\\\\"Fare\\\\\":{\\\\\"0\\\\\":7.8292},\\\\\"Cabin\\\\\":{\\\\\"0\\\\\":null},\\\\\"Embarked\\\\\":{\\\\\"0\\\\\":\\\\\"Q\\\\\"}}\"}'"
      ]
     },
     "execution_count": 28,
     "metadata": {},
     "output_type": "execute_result"
    }
   ],
   "source": [
    "import json\n",
    "\n",
    "test_json = test[0:1].to_json()\n",
    "input_json = json.dumps({\"data\": test_json})\n",
    "input_json\n",
    "\n",
    "#input_json = json.dumps({\"data\": })"
   ]
  },
  {
   "cell_type": "code",
   "execution_count": 38,
   "metadata": {},
   "outputs": [
    {
     "data": {
      "text/plain": [
       "['not-survived']"
      ]
     },
     "execution_count": 38,
     "metadata": {},
     "output_type": "execute_result"
    }
   ],
   "source": [
    "import pandas\n",
    "\n",
    "data = json.loads(input_json)['data']\n",
    "data = pandas.read_json(data, orient='records')\n",
    "data\n",
    "predictions = model.predict(data)\n",
    "classnames = ['not-survived', 'survived']\n",
    "predicted_classes = []\n",
    "for prediction in predictions:\n",
    "    predicted_classes.append(classnames[prediction])\n",
    "\n",
    "predicted_classes"
   ]
  },
  {
   "cell_type": "code",
   "execution_count": 17,
   "metadata": {},
   "outputs": [
    {
     "data": {
      "text/plain": [
       "['41.csv: [1 1 0 0 1 0 0 1]', '1.csv: [1 1 0 0 1 0 0 1]']"
      ]
     },
     "execution_count": 17,
     "metadata": {},
     "output_type": "execute_result"
    }
   ],
   "source": [
    "import pandas\n",
    "\n",
    "resultList = []\n",
    "f = '/mnt/batch/tasks/shared/LS_root/mounts/clusters/d12/code/users/marcin.szeliga/Titanic/batch-data/41.csv'\n",
    "data = pandas.read_csv(f)\n",
    "#print(os.path.basename(f))\n",
    "p = model.predict(f1)\n",
    "resultList.append(\"{}: {}\".format(os.path.basename(f), p))\n",
    "\n",
    "f = '/mnt/batch/tasks/shared/LS_root/mounts/clusters/d12/code/users/marcin.szeliga/Titanic/batch-data/1.csv'\n",
    "data = pandas.read_csv(f)\n",
    "#print(os.path.basename(f))\n",
    "p = model.predict(f1)\n",
    "resultList.append(\"{}: {}\".format(os.path.basename(f), p))\n",
    "resultList"
   ]
  }
 ],
 "metadata": {
  "kernel_info": {
   "name": "python3-azureml"
  },
  "kernelspec": {
   "display_name": "Python 3.6 - AzureML",
   "language": "python",
   "name": "python3-azureml"
  },
  "language_info": {
   "codemirror_mode": {
    "name": "ipython",
    "version": 3
   },
   "file_extension": ".py",
   "mimetype": "text/x-python",
   "name": "python",
   "nbconvert_exporter": "python",
   "pygments_lexer": "ipython3",
   "version": "3.6.9"
  },
  "nteract": {
   "version": "nteract-front-end@1.0.0"
  }
 },
 "nbformat": 4,
 "nbformat_minor": 4
}
